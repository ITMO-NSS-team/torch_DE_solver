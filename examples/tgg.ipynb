{
 "cells": [
  {
   "cell_type": "code",
   "execution_count": 1,
   "id": "initial_id",
   "metadata": {
    "collapsed": true,
    "ExecuteTime": {
     "end_time": "2023-12-21T10:28:46.645240900Z",
     "start_time": "2023-12-21T10:28:40.358169800Z"
    }
   },
   "outputs": [],
   "source": [
    "import numpy as np\n",
    "import torch\n",
    "import torch.nn as nn\n",
    "%load_ext autoreload\n",
    "%autoreload 2"
   ]
  },
  {
   "cell_type": "code",
   "execution_count": 2,
   "outputs": [],
   "source": [
    "from tedeous.model import Model"
   ],
   "metadata": {
    "collapsed": false,
    "ExecuteTime": {
     "end_time": "2023-12-21T10:28:47.888271400Z",
     "start_time": "2023-12-21T10:28:46.647746Z"
    }
   },
   "id": "765eebf299262f03"
  },
  {
   "cell_type": "code",
   "execution_count": 3,
   "outputs": [],
   "source": [
    "device = 'cuda'"
   ],
   "metadata": {
    "collapsed": false,
    "ExecuteTime": {
     "end_time": "2023-12-21T10:28:47.934495800Z",
     "start_time": "2023-12-21T10:28:47.889257700Z"
    }
   },
   "id": "1772e661e831803f"
  },
  {
   "cell_type": "code",
   "execution_count": 28,
   "outputs": [],
   "source": [
    "x_grid = np.linspace(0, 1, 51)\n",
    "t_grid = np.linspace(0, 1, 51)\n",
    "\n",
    "x = torch.from_numpy(x_grid)\n",
    "t = torch.from_numpy(t_grid)\n",
    "\n",
    "grid = torch.cartesian_prod(x, t).float().to(device)\n",
    "\n",
    "def nn_autograd_simple(model, points, order,axis=0):\n",
    "    points.requires_grad=True\n",
    "    f = model(points).sum()\n",
    "    for i in range(order):\n",
    "        grads, = torch.autograd.grad(f, points, create_graph=True)\n",
    "        f = grads[:,axis].sum()\n",
    "    return grads[:,axis]\n",
    "\n",
    "func_bnd1 = lambda x: 10 ** 4 * torch.sin((1 / 10) * x * (x - 1)) ** 2\n",
    "bnd1 = torch.cartesian_prod(x, torch.from_numpy(np.array([0], dtype=np.float64))).float().to(device)\n",
    "bndval1 = func_bnd1(bnd1[:, 0])\n",
    "\n",
    "# du/dx (x,0) = 1e3*sin^2(x(x-1)/10)\n",
    "func_bnd2 = lambda x: 10 ** 3 * torch.sin((1 / 10) * x * (x - 1)) ** 2\n",
    "bnd2 = torch.cartesian_prod(x, torch.from_numpy(np.array([0], dtype=np.float64))).float().to(device)\n",
    "bop2 = {\n",
    "    'du/dt':\n",
    "        {\n",
    "            'coeff': 1,\n",
    "            'du/dt': [1],\n",
    "            'pow': 1,\n",
    "            'var': 0\n",
    "        }\n",
    "}\n",
    "bndval2 = func_bnd2(bnd2[:, 0])\n",
    "\n",
    "# u(0,t) = u(1,t)\n",
    "bnd3_left = torch.cartesian_prod(torch.from_numpy(np.array([0], dtype=np.float64)), t).float().to(device)\n",
    "bnd3_right = torch.cartesian_prod(torch.from_numpy(np.array([1], dtype=np.float64)), t).float().to(device)\n",
    "bnd3 = [bnd3_left, bnd3_right]\n",
    "\n",
    "# du/dt(0,t) = du/dt(1,t)\n",
    "bnd4_left = torch.cartesian_prod(torch.from_numpy(np.array([0], dtype=np.float64)), t).float().to(device)\n",
    "bnd4_right = torch.cartesian_prod(torch.from_numpy(np.array([1], dtype=np.float64)), t).float().to(device)\n",
    "bnd4 = [bnd4_left, bnd4_right]\n",
    "\n",
    "bop4 = {\n",
    "    'du/dx':\n",
    "        {\n",
    "            'coeff': 1,\n",
    "            'du/dx': [0],\n",
    "            'pow': 1,\n",
    "            'var': 0\n",
    "        }\n",
    "}\n",
    "bcond_type = 'periodic'\n",
    "\n",
    "bconds = [[bnd1, bndval1, 'dirichlet'],\n",
    "          [bnd2, bop2, bndval2, 'operator'],\n",
    "          [bnd3, bcond_type],\n",
    "          [bnd4, bop4, bcond_type]]\n",
    "C = 4\n",
    "wave_eq = {\n",
    "    'd2u/dt2':\n",
    "        {\n",
    "            'coeff': 1,\n",
    "            'd2u/dt2': [1, 1],\n",
    "            'pow': 1,\n",
    "            'var': 0\n",
    "        },\n",
    "        '-1/C*d2u/dx2':\n",
    "        {\n",
    "            'coeff': -1/C,\n",
    "            'd2u/dx2': [0, 0],\n",
    "            'pow': 1,\n",
    "            'var': 0\n",
    "        }\n",
    "}\n",
    "\n",
    "model = torch.nn.Sequential(\n",
    "        nn.Linear(2, 100),\n",
    "        nn.Tanh(),\n",
    "        nn.Linear(100, 100),\n",
    "        nn.Tanh(),\n",
    "        nn.Linear(100, 100),\n",
    "        nn.Tanh(),\n",
    "        nn.Linear(100, 1))"
   ],
   "metadata": {
    "collapsed": false,
    "ExecuteTime": {
     "end_time": "2023-12-21T10:45:59.833152100Z",
     "start_time": "2023-12-21T10:45:59.752142300Z"
    }
   },
   "id": "bd92cd13fc59fea"
  },
  {
   "cell_type": "code",
   "execution_count": 29,
   "outputs": [],
   "source": [
    "model = Model(model,grid, wave_eq, bconds)"
   ],
   "metadata": {
    "collapsed": false,
    "ExecuteTime": {
     "end_time": "2023-12-21T10:46:00.087152400Z",
     "start_time": "2023-12-21T10:46:00.039152400Z"
    }
   },
   "id": "bfeba12ac514ed50"
  },
  {
   "cell_type": "code",
   "execution_count": 30,
   "outputs": [],
   "source": [
    "model.compile()"
   ],
   "metadata": {
    "collapsed": false,
    "ExecuteTime": {
     "end_time": "2023-12-21T10:46:00.677152700Z",
     "start_time": "2023-12-21T10:46:00.276152300Z"
    }
   },
   "id": "c8897b86904ce693"
  },
  {
   "cell_type": "code",
   "execution_count": null,
   "outputs": [],
   "source": [
    "from tedeous.callbacks import EarlyStopping"
   ],
   "metadata": {
    "collapsed": false
   },
   "id": "53085915c3704af1"
  },
  {
   "cell_type": "code",
   "execution_count": 32,
   "outputs": [],
   "source": [
    "es = EarlyStopping() "
   ],
   "metadata": {
    "collapsed": false,
    "ExecuteTime": {
     "end_time": "2023-12-21T10:46:00.946152400Z",
     "start_time": "2023-12-21T10:46:00.906153300Z"
    }
   },
   "id": "f8e0be9ba2ac8b0e"
  },
  {
   "cell_type": "code",
   "execution_count": 33,
   "outputs": [
    {
     "name": "stdout",
     "output_type": "stream",
     "text": [
      "tensor([[1]])\n"
     ]
    }
   ],
   "source": [
    "model.train(callbacks=[es])"
   ],
   "metadata": {
    "collapsed": false,
    "ExecuteTime": {
     "end_time": "2023-12-21T10:46:01.277153Z",
     "start_time": "2023-12-21T10:46:01.230152600Z"
    }
   },
   "id": "ddfb59a050d3a68a"
  },
  {
   "cell_type": "code",
   "execution_count": 9,
   "outputs": [],
   "source": [],
   "metadata": {
    "collapsed": false,
    "ExecuteTime": {
     "end_time": "2023-12-21T10:28:48.707300800Z",
     "start_time": "2023-12-21T10:28:48.692285800Z"
    }
   },
   "id": "c2e618e05eee3ab9"
  }
 ],
 "metadata": {
  "kernelspec": {
   "display_name": "Python 3",
   "language": "python",
   "name": "python3"
  },
  "language_info": {
   "codemirror_mode": {
    "name": "ipython",
    "version": 2
   },
   "file_extension": ".py",
   "mimetype": "text/x-python",
   "name": "python",
   "nbconvert_exporter": "python",
   "pygments_lexer": "ipython2",
   "version": "2.7.6"
  }
 },
 "nbformat": 4,
 "nbformat_minor": 5
}
