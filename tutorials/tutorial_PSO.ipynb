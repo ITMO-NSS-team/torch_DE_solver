{
 "cells": [
  {
   "cell_type": "markdown",
   "metadata": {},
   "source": [
    "## PSO optimizer tutorial.\n",
    "### Burgers equation.\n",
    "$$\\frac{\\partial u}{\\partial t}+ u\\frac{\\partial u}{\\partial x}=\\mu\\frac{\\partial^2 u}{\\partial x^2} $$\n",
    "$$\\mu=0.02/\\pi$$\n",
    "$$x\\in[-1,1]$$\n",
    "$$t\\in[0,1]$$\n",
    "\n",
    "*Initial and boundary conditions*\n",
    "$$u(x, t=0)=-sin(\\pi*x)$$\n",
    "$$u(x=-1, t)=0$$\n",
    "$$u(x=1, t)=0$$\n",
    "\n",
    "import libraries and Solver modules."
   ]
  },
  {
   "cell_type": "code",
   "execution_count": null,
   "metadata": {},
   "outputs": [],
   "source": [
    "import torch\n",
    "import numpy as np\n",
    "from scipy.integrate import quad\n",
    "import sys\n",
    "import os\n",
    "\n",
    "os.environ['KMP_DUPLICATE_LIB_OK'] = 'TRUE'\n",
    "sys.path.append(os.path.abspath(os.path.join(os.path.dirname('tutorials'), '..')))\n",
    "\n",
    "from tedeous.data import Domain, Conditions, Equation\n",
    "from tedeous.model import Model\n",
    "from tedeous.callbacks import early_stopping, plot\n",
    "from tedeous.optimizers.optimizer import Optimizer\n",
    "from tedeous.device import solver_device, check_device\n",
    "from tedeous.models import mat_model"
   ]
  },
  {
   "cell_type": "markdown",
   "metadata": {},
   "source": [
    "Building grid, boundary conditions, equation."
   ]
  },
  {
   "cell_type": "code",
   "execution_count": null,
   "metadata": {},
   "outputs": [],
   "source": [
    "solver_device('cuda')\n",
    "\n",
    "mode = 'autograd'\n",
    "\n",
    "mu = 0.02 / np.pi\n",
    "\n",
    "##Domain class for doamin initialization\n",
    "domain = Domain()\n",
    "domain.variable('x', [-1, 1], 20)\n",
    "domain.variable('t', [0, 1], 20)\n",
    "\n",
    "boundaries = Conditions()\n",
    "\n",
    "##initial cond\n",
    "x = domain.variable_dict['x']\n",
    "boundaries.dirichlet({'x': [-1, 1], 't': 0}, value=-torch.sin(np.pi*x))\n",
    "\n",
    "##boundary cond\n",
    "boundaries.dirichlet({'x': -1, 't': [0, 1]}, value=0)\n",
    "\n",
    "##boundary cond\n",
    "boundaries.dirichlet({'x': 1, 't': [0, 1]}, value=0)\n",
    "\n",
    "equation = Equation()\n",
    "\n",
    "## equation part\n",
    "burgers_eq = {\n",
    "    'du/dt**1':\n",
    "        {\n",
    "            'coeff': 1.,\n",
    "            'du/dt': [1],\n",
    "            'pow': 1,\n",
    "            'var': 0\n",
    "        },\n",
    "    '+u*du/dx':\n",
    "        {\n",
    "            'coeff': 1,\n",
    "            'u*du/dx': [[None], [0]],\n",
    "            'pow': [1, 1],\n",
    "            'var': [0, 0]\n",
    "        },\n",
    "    '-mu*d2u/dx2':\n",
    "        {\n",
    "            'coeff': -mu,\n",
    "            'd2u/dx2': [0, 0],\n",
    "            'pow': 1,\n",
    "            'var': 0\n",
    "        }\n",
    "}\n",
    "\n",
    "equation.add(burgers_eq)\n"
   ]
  },
  {
   "cell_type": "markdown",
   "metadata": {},
   "source": [
    "exact solution"
   ]
  },
  {
   "cell_type": "code",
   "execution_count": null,
   "metadata": {},
   "outputs": [],
   "source": [
    "def exact(grid):\n",
    "    mu = 0.02 / np.pi\n",
    "\n",
    "    def f(y):\n",
    "        return np.exp(-np.cos(np.pi * y) / (2 * np.pi * mu))\n",
    "\n",
    "    def integrand1(m, x, t):\n",
    "        return np.sin(np.pi * (x - m)) * f(x - m) * np.exp(-m ** 2 / (4 * mu * t))\n",
    "\n",
    "    def integrand2(m, x, t):\n",
    "        return f(x - m) * np.exp(-m ** 2 / (4 * mu * t))\n",
    "\n",
    "    def u(x, t):\n",
    "        if t == 0:\n",
    "            return -np.sin(np.pi * x)\n",
    "        else:\n",
    "            return -quad(integrand1, -np.inf, np.inf, args=(x, t))[0] / quad(integrand2, -np.inf, np.inf, args=(x, t))[\n",
    "                0]\n",
    "\n",
    "    solution = []\n",
    "    for point in grid:\n",
    "        solution.append(u(point[0].item(), point[1].item()))\n",
    "\n",
    "    return torch.tensor(solution)"
   ]
  },
  {
   "cell_type": "markdown",
   "metadata": {},
   "source": [
    "When grid, equation, boundary conditions  exist, we should call preprocessing class Equation with method set_strategy and initialize model."
   ]
  },
  {
   "cell_type": "code",
   "execution_count": null,
   "metadata": {},
   "outputs": [],
   "source": [
    "## model part\n",
    "if mode in ('NN', 'autograd'):\n",
    "    net = torch.nn.Sequential(\n",
    "        torch.nn.Linear(2, 10),\n",
    "        torch.nn.Tanh(),\n",
    "        torch.nn.Linear(10, 10),\n",
    "        torch.nn.Tanh(),\n",
    "        torch.nn.Linear(10, 10),\n",
    "        torch.nn.Tanh(),\n",
    "        torch.nn.Linear(10, 1)\n",
    "    )\n",
    "else:\n",
    "    net = mat_model(domain, equation)"
   ]
  },
  {
   "cell_type": "markdown",
   "metadata": {},
   "source": [
    "After that, we can initialize optimizer, it may be one of torch optimizers or custom form *tedeous.optimizers* module.\n",
    "If you want to run optimizatoin process with default settings,\n",
    "you will be able to set it as string (\"Adam\", \"SGD\", \"LBFGS\", \"PSO\")\n",
    "\n",
    "*Here is main aspects of particle swarm optimizer realization*\n",
    "1. For optimization, the swarm *pop_size* is built based on initial model weights with adding some *variance* (influence on search space)\n",
    "2. Each individual in this swarm represents a candidate solution. At each iteration, the particles in the swarm exchange\n",
    "information and use it to update their positions.\n",
    "3.  Particle $\\theta^t$ at iteration $t$ is changed by three factors: its own velocity inertia $\\beta \\upsilon^t$\n",
    ", its best-known position $p_{best}$ in the search-space, as well as the\n",
    "entire swarm’s best-known position $g_{best}$:\n",
    "$$\\upsilon^{t+1} = \\beta*\\upsilon^{t} + (1-\\beta)*(c1*r1(p_{best} − \\theta^t) + c2*r2(g_{best} − \\theta^t))$$\n",
    "where *c1* and *c2* are the cognitive and social coefficients, respectively, referred to jointly as the behavioral\n",
    "coefficients, and *r1* and *r2* are uniformly distributed random numbers in range (-*variance*, *variance*). Then the particle position is updated as:\n",
    "$$\\theta^{t+1} = \\theta^t + \\upsilon^{t+1}$$\n",
    "4. PSO can be combined with gradient descent to train neural networks:\n",
    "$$v^{t+1} = \\beta*\\upsilon^{t} + (1-\\beta)*(c1*r1(p_{best} − \\theta^t) + c2*r2(g_{best} − \\theta^t)) − \\alpha*\\nabla Loss(\\theta^t)$$\n",
    "where $\\alpha$ is *lr*.\n",
    "\n",
    "Based on formulaes above, here is matching formulaes coef-nts with *PSO* algorithm parameters:\n",
    "1. pop_size (int, optional): The swarm. Defaults to 30.\n",
    "2. b (float, optional): Inertia of the particles. Defaults to 0.9.\n",
    "3. c1 (float, optional): The *p-best* coeficient. Defaults to 0.08.\n",
    "4. c2 (float, optional): The *g-best* coeficient. Defaults to 0.5.\n",
    "5. c_decrease (bool, optional): Flag for update_pso_params method. Defautls to False.\n",
    "6. variance (float, optional): Variance parameter for swarm creation\n",
    "based on init model, ifluence on r1 and r2 coeff-nts. Defaults to 1.\n",
    "7. lr (float, optional): Learning rate for gradient descent. Defaults to 1e-3.\n",
    "    If 0, there will be only PSO optimization without gradients.\n",
    "8. epsilon (float, optional): some add to gradient descent like in Adam optimizer. Defaults to 1e-8.\n",
    "\n",
    "After preliminaries, to sart solving the equation, we should call Solver class with method solve:"
   ]
  },
  {
   "cell_type": "code",
   "execution_count": null,
   "metadata": {},
   "outputs": [],
   "source": [
    "img_dir=os.path.join(os.path.dirname('tutorials'), 'Burg_eq_img')\n",
    "\n",
    "model = Model(net, domain, equation, boundaries)\n",
    "\n",
    "model.compile(mode, lambda_operator=1, lambda_bound=10)\n",
    "\n",
    "cb_es = early_stopping.EarlyStopping(eps=1e-7,\n",
    "                                     loss_window=100,\n",
    "                                     no_improvement_patience=1000,\n",
    "                                     patience=3,\n",
    "                                     randomize_parameter=1e-5,\n",
    "                                     info_string_every=1000)\n",
    "\n",
    "cb_plots = plot.Plots(save_every=1000, print_every=None, img_dir=img_dir)\n",
    "\n",
    "optimizer = Optimizer('Adam', {'lr': 1e-3})\n",
    "\n",
    "model.train(optimizer, 10000, save_model=False, callbacks=[cb_es, cb_plots])\n",
    "\n",
    "grid = domain.build(mode)\n",
    "\n",
    "u_exact = exact(grid).to('cuda')\n",
    "\n",
    "u_exact = check_device(u_exact).reshape(-1)\n",
    "\n",
    "u_pred = check_device(net(grid)).reshape(-1)\n",
    "\n",
    "error_rmse = torch.sqrt(torch.sum((u_exact - u_pred)**2)) / torch.sqrt(torch.sum(u_exact**2))\n",
    "\n",
    "print('RMSE_grad= ', error_rmse.item())"
   ]
  },
  {
   "cell_type": "markdown",
   "metadata": {},
   "source": [
    "for trained model we want to start PSO."
   ]
  },
  {
   "cell_type": "code",
   "execution_count": null,
   "metadata": {},
   "outputs": [],
   "source": [
    "optimizer = Optimizer('PSO', {'pop_size': 100,\n",
    "                              'b': 0.5,\n",
    "                              'c2': 0.05,\n",
    "                              'variance': 5e-3,\n",
    "                              'c_decrease': True,\n",
    "                              'lr': 5e-3})\n",
    "\n",
    "model.train(optimizer, 3000, info_string_every=100, save_model=False, callbacks=[cb_es, cb_plots])\n",
    "\n",
    "u_pred = check_device(net(grid)).reshape(-1)\n",
    "\n",
    "error_rmse = torch.sqrt(torch.sum((u_exact - u_pred)**2)) / torch.sqrt(torch.sum(u_exact**2))\n",
    "\n",
    "print('RMSE_pso= ', error_rmse.item())"
   ]
  }
 ],
 "metadata": {
  "kernelspec": {
   "display_name": "Python 3",
   "language": "python",
   "name": "python3"
  },
  "language_info": {
   "codemirror_mode": {
    "name": "ipython",
    "version": 3
   },
   "file_extension": ".py",
   "mimetype": "text/x-python",
   "name": "python",
   "nbconvert_exporter": "python",
   "pygments_lexer": "ipython3",
   "version": "3.9.10"
  }
 },
 "nbformat": 4,
 "nbformat_minor": 2
}
